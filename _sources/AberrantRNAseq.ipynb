{
 "cells": [
  {
   "cell_type": "markdown",
   "metadata": {},
   "source": [
    "# Aberrant Protein Isoforms from RNAseq\n",
    "\n",
    "## Specific Aims Page\n",
    "\n",
    "### Introduction\n",
    "\n",
    "RNA sequencing (RNA-seq) has historically been the -omic of choice for discovering novel drug targets due to its lower cost, accessibility, and sensitivity in detecting novel genes. However, traditional RNA-seq analysis methods often fail to properly characterize the aberrant transcriptomic landscape often seen in cancers such as acute myeloid leukemia (AML). These aberrant transcripts include alternatively spliced transcripts, microRNAs, and fusion gene derived transcripts. To address this limitation, I will develop a pipeline in R for identifying abberant transcripts in RNA-seq data in collaboration with Dr. Timothy Shaw at the Moffitt Cancer Center. This pipeline will be tested using the publicly available TARGET dataset of AML patients. Once verified, the pipeline can be applied to the AML02, AML08, and AML16 St. Jude clinical trial samples with matching proteomics data. By comparing to the proteomics data, it can be determined if these abberant transcripts are translated into their protein counterparts and if the levels of aberrant transcript expression correspond to levels of aberrant protein expression. Once confirmed, these abberant proteins can be screened as potential drug targets since these proteins would not be present in healthy cells.\n",
    "\n",
    "### Specific Aims\n",
    "\n",
    "1. Create a package in R to identify aberrant transcripts within RNA-seq data.\n",
    "\n",
    "2. Test the pipeline using the publicly available TARGET dataset of AML patients.\n",
    "\n",
    "3. Compare the aberrant transcript expression to the aberrant protein expression by applying the pipeline to RNA-seq data with patient-matched proteomics data from the AML02, AML08, and AML16 St. Jude clinical trials."
   ]
  }
 ],
 "metadata": {
  "language_info": {
   "name": "python"
  }
 },
 "nbformat": 4,
 "nbformat_minor": 2
}
