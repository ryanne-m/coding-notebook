{
 "cells": [
  {
   "cell_type": "markdown",
   "id": "39112b32-02a1-423a-a5fb-68d04d4d4948",
   "metadata": {},
   "source": [
    "# Notes\n",
    "\n",
    "### Converting .bam to .fastq 11/14/2024\n",
    "\n",
    "First, one of the bam files was loaded into igv using hg38 as the reference genome to determine strandedness. Due to the sense and antisense strands being intersperced, these mapped reads are part of a paired-end unstranded library. Files were then converted from bam to fastq format using samtools v.1.21:"
   ]
  },
  {
   "cell_type": "code",
   "execution_count": null,
   "id": "00185ab2",
   "metadata": {
    "vscode": {
     "languageId": "shellscript"
    }
   },
   "outputs": [],
   "source": [
    "# Checks if the bam file is intact and not truncated\n",
    "samtools quickcheck SJAML003320_D3.bam\n",
    "# No output indicates that there are no issues\n",
    "\n",
    "# Sort paired-end read alignment .bam file by name\n",
    "samtools sort -n SJAML003320_D3.bam -o SJAML003320_D3_sorted.bam\n",
    "\n",
    "# Convert the sorted file into two compressed fastq files, each containing one of the paired-end reads\n",
    "samtools fastq -@ 8 bamInput/SJAML003320_D3_sorted.bam \\\n",
    "    -1 fastqOutput/SJAML003320_D3_R1.fastq.gz \\\n",
    "    -2 fastqOutput/SJAML003320_D3_R2.fastq.gz \\\n",
    "    -0 /dev/null -s /dev/null -n\n"
   ]
  },
  {
   "cell_type": "markdown",
   "id": "56d0789d",
   "metadata": {},
   "source": [
    "According to the output, 0 singletons were discarded using the /dev/null code while 185050754 reads were processed for this first SJAML003320 file. Resulting fastq files can be found in Dropbox in Ryanne Mulligan/Ryanne.2024/RNAseqFastqTestset and in the share drive."
   ]
  },
  {
   "cell_type": "markdown",
   "id": "41961d17",
   "metadata": {},
   "source": [
    "### Using Jupyter Notebook 11/15/2024\n",
    "\n",
    "Whenever you want to update the coding notebook, use: \n"
   ]
  },
  {
   "cell_type": "code",
   "execution_count": null,
   "id": "b78d21de",
   "metadata": {
    "vscode": {
     "languageId": "shellscript"
    }
   },
   "outputs": [],
   "source": [
    "#$ jb build ."
   ]
  },
  {
   "cell_type": "markdown",
   "id": "c4297273",
   "metadata": {},
   "source": [
    "then commit to Github and use:"
   ]
  },
  {
   "cell_type": "code",
   "execution_count": null,
   "id": "6b0f584c",
   "metadata": {
    "vscode": {
     "languageId": "shellscript"
    }
   },
   "outputs": [],
   "source": [
    "#$ ghp-import -n -p -f _build/html"
   ]
  },
  {
   "cell_type": "markdown",
   "id": "d2a49308",
   "metadata": {},
   "source": [
    "### Using Poetry to Create a Package 11/18/2024\n",
    "\n",
    "According to the [python naming conventions](https://peps.python.org/pep-0008/#package-and-module-names), python packages should have short, all-lowercase names that avoid underscores when necessary. Whenever you want to create a package, a build backend is required which will make a source distribution and build distribution that you need. The build backend I have decided to use is Poetry, which is considered the up-and-coming platform. Poetry requires the following file layout:"
   ]
  },
  {
   "cell_type": "code",
   "execution_count": null,
   "id": "f654f899",
   "metadata": {
    "vscode": {
     "languageId": "shellscript"
    }
   },
   "outputs": [],
   "source": [
    "poetry-demo\n",
    "├── pyproject.toml\n",
    "├── README.md\n",
    "├── poetry_demo\n",
    "    └── __init__.py\n",
    "    └── demo.py"
   ]
  },
  {
   "cell_type": "markdown",
   "id": "785a2fec",
   "metadata": {},
   "source": [
    "To get more information, visit the [poetry website](https://python-poetry.org/docs/). You will need to pipx install poetry."
   ]
  },
  {
   "cell_type": "markdown",
   "id": "58e3ebd2",
   "metadata": {},
   "source": [
    "First, you will want to do a test run of your package upload using TestPyPi. Create a TestPyPi account and verify it to upload packages. Go to the account settings and create an API token. In the termminal, add the TestPyPi repository to your Poetry configuration: "
   ]
  },
  {
   "cell_type": "code",
   "execution_count": null,
   "id": "0401fbfc",
   "metadata": {
    "vscode": {
     "languageId": "shellscript"
    }
   },
   "outputs": [],
   "source": [
    "#$ poetry config repositories.testpypi https://test.pypi.org/legacy/"
   ]
  },
  {
   "cell_type": "markdown",
   "id": "d2b0ef48",
   "metadata": {},
   "source": [
    "Then, add your credentials to Poetry:"
   ]
  },
  {
   "cell_type": "code",
   "execution_count": null,
   "id": "c884f450",
   "metadata": {
    "vscode": {
     "languageId": "shellscript"
    }
   },
   "outputs": [],
   "source": [
    "#$ poetry config pypi-token.testpypi your-token-here"
   ]
  },
  {
   "cell_type": "markdown",
   "id": "195bb398",
   "metadata": {},
   "source": [
    "From now on, you do not need to repeat the steps above. Only the below steps will need to be repeated for each upload to TestPyPi. Poetry will create a dist folder containing your source and build distribution from:"
   ]
  },
  {
   "cell_type": "code",
   "execution_count": null,
   "id": "565ed382",
   "metadata": {
    "vscode": {
     "languageId": "shellscript"
    }
   },
   "outputs": [],
   "source": [
    "#$ poetry build"
   ]
  },
  {
   "cell_type": "markdown",
   "id": "b4ccf510",
   "metadata": {},
   "source": [
    "Finally, use the following command to upload the package:"
   ]
  },
  {
   "cell_type": "code",
   "execution_count": null,
   "id": "7220724e",
   "metadata": {
    "vscode": {
     "languageId": "shellscript"
    }
   },
   "outputs": [],
   "source": [
    "#$ poetry publish -r testpypi --build\n"
   ]
  },
  {
   "cell_type": "markdown",
   "id": "6798bf3f",
   "metadata": {},
   "source": [
    "Now it should upload to your projects within TestPyPi. At the top of the page, there is code you can copy that will be used to pip install the package on a system. Note that the pip install here uses a webiste link because this is TestPyPi, and not the real PyPi. Another note- every time you want to re-upload the package, you must change the version number within pyproject.toml or else it will not work."
   ]
  },
  {
   "cell_type": "markdown",
   "id": "3172bf4c",
   "metadata": {},
   "source": [
    "### Uploading Files from a Third-Party Site to HiPerGator 11/18/2024"
   ]
  },
  {
   "cell_type": "markdown",
   "id": "ff1b7e39",
   "metadata": {},
   "source": [
    "Log in using your UF credentials to [UF onDemand](https://ondemand.rc.ufl.edu) and create a console using the default settings. Once the interactive session starts, navigate to the folder you want to upload to within HiPerGator in the terminal. In my case, this was /blue/jatinderklamba/mulligan/data/TestBamFiles/ . Type in the following commands:"
   ]
  },
  {
   "cell_type": "code",
   "execution_count": null,
   "id": "a9dd4b6e",
   "metadata": {
    "vscode": {
     "languageId": "shellscript"
    }
   },
   "outputs": [],
   "source": [
    "#$ module load ubuntu\n",
    "#$ chrome"
   ]
  },
  {
   "cell_type": "markdown",
   "id": "356874da",
   "metadata": {},
   "source": [
    "This will open Chrome within the console. Navigate to the Chrome settings and change the default download location to the HiPerGator folder you are in. Then, navigate to the third-party site such as Dropbox. Whatever you download will be downloaded to the HiPerGator folder. Note- downloading all the files from Dropbox at once creates a zipped file that won't want to open. It is best to download these one at a time until a better solution is found. For more information about uploading files to HiPerGator visit [this website](https://help.rc.ufl.edu/doc/Transfer_Data)."
   ]
  },
  {
   "cell_type": "markdown",
   "id": "b8217ca6",
   "metadata": {},
   "source": [
    "### List of Cryptic Proteins in AML\n",
    "\n",
    "Obtained acute myeloid leukemia specific alternatively spliced protein isoforms from the [ASCancer Atlas](https://ngdc.cncb.ac.cn/ascancer/home)."
   ]
  },
  {
   "cell_type": "code",
   "execution_count": 2,
   "id": "4c89e398",
   "metadata": {},
   "outputs": [
    {
     "data": {
      "text/html": [
       "<div>\n",
       "<style scoped>\n",
       "    .dataframe tbody tr th:only-of-type {\n",
       "        vertical-align: middle;\n",
       "    }\n",
       "\n",
       "    .dataframe tbody tr th {\n",
       "        vertical-align: top;\n",
       "    }\n",
       "\n",
       "    .dataframe thead th {\n",
       "        text-align: right;\n",
       "    }\n",
       "</style>\n",
       "<table border=\"1\" class=\"dataframe\">\n",
       "  <thead>\n",
       "    <tr style=\"text-align: right;\">\n",
       "      <th></th>\n",
       "      <th>_id</th>\n",
       "      <th>has_oncoprint</th>\n",
       "      <th>event_id</th>\n",
       "      <th>as_model_id</th>\n",
       "      <th>cancer_name</th>\n",
       "      <th>tcga_project_id</th>\n",
       "      <th>gene_name</th>\n",
       "      <th>hgnc_id</th>\n",
       "      <th>ensembl_id</th>\n",
       "      <th>chr</th>\n",
       "      <th>...</th>\n",
       "      <th>external_intervention</th>\n",
       "      <th>regulatory_mechanism</th>\n",
       "      <th>regulatory_gene</th>\n",
       "      <th>biological_function</th>\n",
       "      <th>functional_description</th>\n",
       "      <th>year</th>\n",
       "      <th>pubmed_id</th>\n",
       "      <th>journal</th>\n",
       "      <th>title</th>\n",
       "      <th>cancer_names</th>\n",
       "    </tr>\n",
       "  </thead>\n",
       "  <tbody>\n",
       "    <tr>\n",
       "      <th>0</th>\n",
       "      <td>=\"62f8e2a5a2bd957939763c39\"</td>\n",
       "      <td>=\"no\"</td>\n",
       "      <td>=\"TMEM14C_chr6_+_A3SS_10723148:10723474:107247...</td>\n",
       "      <td>=\"TMEM14C_chr6_+_A3SS_10723474:10724789:107248...</td>\n",
       "      <td>=\"Acute Myeloid Leukemia\"</td>\n",
       "      <td>=\"TCGA-LAML\"</td>\n",
       "      <td>=\"TMEM14C\"</td>\n",
       "      <td>=\"20952\"</td>\n",
       "      <td>=\"ENSG00000111843\"</td>\n",
       "      <td>=\"chr6\"</td>\n",
       "      <td>...</td>\n",
       "      <td>=\"-\"</td>\n",
       "      <td>=\"splicing factor, mutation\"</td>\n",
       "      <td>=\"SF3B1(K700E)\"</td>\n",
       "      <td>=\"Cell Growth, Cell Survival\"</td>\n",
       "      <td>=\"Delivery of synthetic intron-containing HSV–...</td>\n",
       "      <td>=\"2022\"</td>\n",
       "      <td>=\"35241838\"</td>\n",
       "      <td>=\"Nat Biotechnol\"</td>\n",
       "      <td>=\"Synthetic introns enable splicing factor mut...</td>\n",
       "      <td>=\"Acute Myeloid Leukemia\"</td>\n",
       "    </tr>\n",
       "    <tr>\n",
       "      <th>1</th>\n",
       "      <td>=\"62f8e2a5a2bd957939763c41\"</td>\n",
       "      <td>=\"yes\"</td>\n",
       "      <td>=\"INTS3_chr1_+_IR_153719433:153719546:15371975...</td>\n",
       "      <td>=\"INTS3_chr1_+_IR_153719546:153719755\"</td>\n",
       "      <td>=\"Acute Myeloid Leukemia\"</td>\n",
       "      <td>=\"TCGA-LAML\"</td>\n",
       "      <td>=\"INTS3\"</td>\n",
       "      <td>=\"26153\"</td>\n",
       "      <td>=\"ENSG00000143624\"</td>\n",
       "      <td>=\"chr1\"</td>\n",
       "      <td>...</td>\n",
       "      <td>=\"-\"</td>\n",
       "      <td>=\"splicing factor, mutation\"</td>\n",
       "      <td>=\"SRSF2(P95H), IDH2(R140Q)\"</td>\n",
       "      <td>=\"DNA Repair, Cell Differentiation\"</td>\n",
       "      <td>=\"INTS3 depletion in these cells significantly...</td>\n",
       "      <td>=\"2019\"</td>\n",
       "      <td>=\"31578525\"</td>\n",
       "      <td>=\"Nature\"</td>\n",
       "      <td>=\"Coordinated alterations in RNA splicing and ...</td>\n",
       "      <td>=\"Acute Myeloid Leukemia\"</td>\n",
       "    </tr>\n",
       "    <tr>\n",
       "      <th>2</th>\n",
       "      <td>=\"62f8e2a5a2bd957939763c44\"</td>\n",
       "      <td>=\"no\"</td>\n",
       "      <td>=\"CSF3R_chr1_-_A3SS_36931644:36932428:36931644...</td>\n",
       "      <td>=\"CSF3R_chr1_-_A3SS_36931644:36932428:36931644...</td>\n",
       "      <td>=\"Acute Myeloid Leukemia\"</td>\n",
       "      <td>=\"TCGA-LAML\"</td>\n",
       "      <td>=\"CSF3R\"</td>\n",
       "      <td>=\"2439\"</td>\n",
       "      <td>=\"ENSG00000119535\"</td>\n",
       "      <td>=\"chr1\"</td>\n",
       "      <td>...</td>\n",
       "      <td>=\"-\"</td>\n",
       "      <td>=\"splicing factor, mutation, expression\"</td>\n",
       "      <td>=\"SRSF2\"</td>\n",
       "      <td>=\"Cell Proliferation\"</td>\n",
       "      <td>=\"CSF3R is a target of SRSF2 mutations, which ...</td>\n",
       "      <td>=\"2020\"</td>\n",
       "      <td>=\"31462738\"</td>\n",
       "      <td>=\"Leukemia\"</td>\n",
       "      <td>=\"Altered expression of CSF3R splice variants ...</td>\n",
       "      <td>=\"Acute Myeloid Leukemia\"</td>\n",
       "    </tr>\n",
       "    <tr>\n",
       "      <th>3</th>\n",
       "      <td>=\"62f8e2a5a2bd957939763c66\"</td>\n",
       "      <td>=\"no\"</td>\n",
       "      <td>=\"KAT5_chr11_+_ES_65480393:65480529:65480819:6...</td>\n",
       "      <td>=\"KAT5_chr11_+_ES_65480529:65480819:65480974:6...</td>\n",
       "      <td>=\"Acute Myeloid Leukemia\"</td>\n",
       "      <td>=\"TCGA-LAML\"</td>\n",
       "      <td>=\"KAT5\"</td>\n",
       "      <td>=\"5275\"</td>\n",
       "      <td>=\"ENSG00000172977\"</td>\n",
       "      <td>=\"chr11\"</td>\n",
       "      <td>...</td>\n",
       "      <td>=\"-\"</td>\n",
       "      <td>=\"expression\"</td>\n",
       "      <td>=\"PRMT5\"</td>\n",
       "      <td>=\"DNA Damage, DNA Repair, Cell Cycle\"</td>\n",
       "      <td>=\"PRMT5 depletion or inhibition induces aberra...</td>\n",
       "      <td>=\"2018\"</td>\n",
       "      <td>=\"30184499\"</td>\n",
       "      <td>=\"Cell Rep\"</td>\n",
       "      <td>=\"PRMT5 regulates DNA repair by controlling th...</td>\n",
       "      <td>=\"Acute Myeloid Leukemia\"</td>\n",
       "    </tr>\n",
       "    <tr>\n",
       "      <th>4</th>\n",
       "      <td>=\"62f8e2a5a2bd957939763cbe\"</td>\n",
       "      <td>=\"yes\"</td>\n",
       "      <td>=\"MECOM_chr3_-_A3SS_168810746:168810872:168810...</td>\n",
       "      <td>=\"MECOM_chr3_-_A3SS_168810746:168810872:168810...</td>\n",
       "      <td>=\"Acute Myeloid Leukemia\"</td>\n",
       "      <td>=\"TCGA-LAML\"</td>\n",
       "      <td>=\"MECOM\"</td>\n",
       "      <td>=\"3498\"</td>\n",
       "      <td>=\"ENSG00000085276\"</td>\n",
       "      <td>=\"chr3\"</td>\n",
       "      <td>...</td>\n",
       "      <td>=\"-\"</td>\n",
       "      <td>=\"splicing factor, mutation\"</td>\n",
       "      <td>=\"SF3B1(K700E/ K666N/G740E)\"</td>\n",
       "      <td>=\"Cell Differentiation, Self-renewal\"</td>\n",
       "      <td>=\"A novel EVI1 splice isoform is frequently ex...</td>\n",
       "      <td>=\"2022\"</td>\n",
       "      <td>=\"35709354\"</td>\n",
       "      <td>=\"Blood\"</td>\n",
       "      <td>=\"Aberrant EVI1 splicing contributes to EVI1-r...</td>\n",
       "      <td>=\"Acute Myeloid Leukemia\"</td>\n",
       "    </tr>\n",
       "    <tr>\n",
       "      <th>...</th>\n",
       "      <td>...</td>\n",
       "      <td>...</td>\n",
       "      <td>...</td>\n",
       "      <td>...</td>\n",
       "      <td>...</td>\n",
       "      <td>...</td>\n",
       "      <td>...</td>\n",
       "      <td>...</td>\n",
       "      <td>...</td>\n",
       "      <td>...</td>\n",
       "      <td>...</td>\n",
       "      <td>...</td>\n",
       "      <td>...</td>\n",
       "      <td>...</td>\n",
       "      <td>...</td>\n",
       "      <td>...</td>\n",
       "      <td>...</td>\n",
       "      <td>...</td>\n",
       "      <td>...</td>\n",
       "      <td>...</td>\n",
       "      <td>...</td>\n",
       "    </tr>\n",
       "    <tr>\n",
       "      <th>63</th>\n",
       "      <td>=\"62f8e2a6a2bd9579397643e1\"</td>\n",
       "      <td>=\"no\"</td>\n",
       "      <td>=\"BCL2L1_chr20_-_A5SS_30252255:30253889:303094...</td>\n",
       "      <td>=\"BCL2L1_chr20_-_A5SS_30253889:30309458:303101...</td>\n",
       "      <td>=\"Acute Myeloid Leukemia\"</td>\n",
       "      <td>=\"TCGA-LAML\"</td>\n",
       "      <td>=\"BCL2L1\"</td>\n",
       "      <td>=\"992\"</td>\n",
       "      <td>=\"ENSG00000171552\"</td>\n",
       "      <td>=\"chr20\"</td>\n",
       "      <td>...</td>\n",
       "      <td>=\"-\"</td>\n",
       "      <td>=\"splicing factor, expression\"</td>\n",
       "      <td>=\"RBM25\"</td>\n",
       "      <td>=\"Tumor Growth, Apoptosis\"</td>\n",
       "      <td>=\"Reduction in apoptosis of RBM25 KD U937 cell...</td>\n",
       "      <td>=\"2019\"</td>\n",
       "      <td>=\"30635567\"</td>\n",
       "      <td>=\"Nat Commun\"</td>\n",
       "      <td>=\"The splicing factor RBM25 controls MYC activ...</td>\n",
       "      <td>=\"Acute Myeloid Leukemia\"</td>\n",
       "    </tr>\n",
       "    <tr>\n",
       "      <th>64</th>\n",
       "      <td>=\"62f8e2a6a2bd9579397643f9\"</td>\n",
       "      <td>=\"no\"</td>\n",
       "      <td>=\"CD33_chr19_+_ES_51728354:51728411:51728474:5...</td>\n",
       "      <td>=\"CD33_chr19_+_ES_51728411:51728474:51728854:5...</td>\n",
       "      <td>=\"Acute Myeloid Leukemia\"</td>\n",
       "      <td>=\"TCGA-LAML\"</td>\n",
       "      <td>=\"CD33\"</td>\n",
       "      <td>=\"1659\"</td>\n",
       "      <td>=\"ENSG00000105383\"</td>\n",
       "      <td>=\"chr19\"</td>\n",
       "      <td>...</td>\n",
       "      <td>=\"-\"</td>\n",
       "      <td>=\"splicing factor, expression\"</td>\n",
       "      <td>=\"SRSF2\"</td>\n",
       "      <td>=\"Cell Differentiation, Cell Growth\"</td>\n",
       "      <td>=\"The skipping of exon2, resulting in the shor...</td>\n",
       "      <td>=\"2017\"</td>\n",
       "      <td>=\"28644774\"</td>\n",
       "      <td>=\"J Clin Oncol\"</td>\n",
       "      <td>=\"CD33 splicing polymorphism determines gEMTuz...</td>\n",
       "      <td>=\"Acute Myeloid Leukemia\"</td>\n",
       "    </tr>\n",
       "    <tr>\n",
       "      <th>65</th>\n",
       "      <td>=\"62f8e2a6a2bd9579397643fa\"</td>\n",
       "      <td>=\"yes\"</td>\n",
       "      <td>=\"MAP3K7_chr6_-_A3SS_91269795:91269933:9126979...</td>\n",
       "      <td>=\"MAP3K7_chr6_-_A3SS_91269795:91269933:9126979...</td>\n",
       "      <td>=\"Acute Myeloid Leukemia\"</td>\n",
       "      <td>=\"TCGA-LAML\"</td>\n",
       "      <td>=\"MAP3K7\"</td>\n",
       "      <td>=\"6859\"</td>\n",
       "      <td>=\"ENSG00000135341\"</td>\n",
       "      <td>=\"chr6\"</td>\n",
       "      <td>...</td>\n",
       "      <td>=\"-\"</td>\n",
       "      <td>=\"splicing factor, mutation\"</td>\n",
       "      <td>=\"SF3B1(K700E)\"</td>\n",
       "      <td>=\"Cell Growth, Cell Survival\"</td>\n",
       "      <td>=\"Delivery of synthetic intron-containing HSV–...</td>\n",
       "      <td>=\"2022\"</td>\n",
       "      <td>=\"35241838\"</td>\n",
       "      <td>=\"Nat Biotechnol\"</td>\n",
       "      <td>=\"Synthetic introns enable splicing factor mut...</td>\n",
       "      <td>=\"Acute Myeloid Leukemia\"</td>\n",
       "    </tr>\n",
       "    <tr>\n",
       "      <th>66</th>\n",
       "      <td>=\"62f8e2a6a2bd957939764407\"</td>\n",
       "      <td>=\"no\"</td>\n",
       "      <td>=\"MTERFD3_chr12_-_IR_107378893:107379003:10738...</td>\n",
       "      <td>=\"MTERFD3_chr12_-_IR_107379003:107380747\"</td>\n",
       "      <td>=\"Acute Myeloid Leukemia\"</td>\n",
       "      <td>=\"TCGA-LAML\"</td>\n",
       "      <td>=\"MTERFD3\"</td>\n",
       "      <td>=\"30779\"</td>\n",
       "      <td>=\"ENSG00000120832\"</td>\n",
       "      <td>=\"chr12\"</td>\n",
       "      <td>...</td>\n",
       "      <td>=\"-\"</td>\n",
       "      <td>=\"splicing factor, mutation\"</td>\n",
       "      <td>=\"SF3B1(K700E)\"</td>\n",
       "      <td>=\"Cell Growth, Cell Survival\"</td>\n",
       "      <td>=\"Delivery of synthetic intron-containing HSV–...</td>\n",
       "      <td>=\"2022\"</td>\n",
       "      <td>=\"35241838\"</td>\n",
       "      <td>=\"Nat Biotechnol\"</td>\n",
       "      <td>=\"Synthetic introns enable splicing factor mut...</td>\n",
       "      <td>=\"Acute Myeloid Leukemia\"</td>\n",
       "    </tr>\n",
       "    <tr>\n",
       "      <th>67</th>\n",
       "      <td>=\"62f8e2a6a2bd957939764408\"</td>\n",
       "      <td>=\"no\"</td>\n",
       "      <td>=\"ORAI2_chr7_+_A3SS_102074017:102074108:102076...</td>\n",
       "      <td>=\"ORAI2_chr7_+_A3SS_102074108:102076672:102076...</td>\n",
       "      <td>=\"Acute Myeloid Leukemia\"</td>\n",
       "      <td>=\"TCGA-LAML\"</td>\n",
       "      <td>=\"ORAI2\"</td>\n",
       "      <td>=\"21667\"</td>\n",
       "      <td>=\"ENSG00000160991\"</td>\n",
       "      <td>=\"chr7\"</td>\n",
       "      <td>...</td>\n",
       "      <td>=\"-\"</td>\n",
       "      <td>=\"splicing factor, mutation\"</td>\n",
       "      <td>=\"SF3B1(K700E)\"</td>\n",
       "      <td>=\"Cell Growth, Cell Survival\"</td>\n",
       "      <td>=\"Delivery of synthetic intron-containing HSV–...</td>\n",
       "      <td>=\"2022\"</td>\n",
       "      <td>=\"35241838\"</td>\n",
       "      <td>=\"Nat Biotechnol\"</td>\n",
       "      <td>=\"Synthetic introns enable splicing factor mut...</td>\n",
       "      <td>=\"Acute Myeloid Leukemia\"</td>\n",
       "    </tr>\n",
       "  </tbody>\n",
       "</table>\n",
       "<p>68 rows × 43 columns</p>\n",
       "</div>"
      ],
      "text/plain": [
       "                            _id has_oncoprint  \\\n",
       "0   =\"62f8e2a5a2bd957939763c39\"         =\"no\"   \n",
       "1   =\"62f8e2a5a2bd957939763c41\"        =\"yes\"   \n",
       "2   =\"62f8e2a5a2bd957939763c44\"         =\"no\"   \n",
       "3   =\"62f8e2a5a2bd957939763c66\"         =\"no\"   \n",
       "4   =\"62f8e2a5a2bd957939763cbe\"        =\"yes\"   \n",
       "..                          ...           ...   \n",
       "63  =\"62f8e2a6a2bd9579397643e1\"         =\"no\"   \n",
       "64  =\"62f8e2a6a2bd9579397643f9\"         =\"no\"   \n",
       "65  =\"62f8e2a6a2bd9579397643fa\"        =\"yes\"   \n",
       "66  =\"62f8e2a6a2bd957939764407\"         =\"no\"   \n",
       "67  =\"62f8e2a6a2bd957939764408\"         =\"no\"   \n",
       "\n",
       "                                             event_id  \\\n",
       "0   =\"TMEM14C_chr6_+_A3SS_10723148:10723474:107247...   \n",
       "1   =\"INTS3_chr1_+_IR_153719433:153719546:15371975...   \n",
       "2   =\"CSF3R_chr1_-_A3SS_36931644:36932428:36931644...   \n",
       "3   =\"KAT5_chr11_+_ES_65480393:65480529:65480819:6...   \n",
       "4   =\"MECOM_chr3_-_A3SS_168810746:168810872:168810...   \n",
       "..                                                ...   \n",
       "63  =\"BCL2L1_chr20_-_A5SS_30252255:30253889:303094...   \n",
       "64  =\"CD33_chr19_+_ES_51728354:51728411:51728474:5...   \n",
       "65  =\"MAP3K7_chr6_-_A3SS_91269795:91269933:9126979...   \n",
       "66  =\"MTERFD3_chr12_-_IR_107378893:107379003:10738...   \n",
       "67  =\"ORAI2_chr7_+_A3SS_102074017:102074108:102076...   \n",
       "\n",
       "                                          as_model_id  \\\n",
       "0   =\"TMEM14C_chr6_+_A3SS_10723474:10724789:107248...   \n",
       "1              =\"INTS3_chr1_+_IR_153719546:153719755\"   \n",
       "2   =\"CSF3R_chr1_-_A3SS_36931644:36932428:36931644...   \n",
       "3   =\"KAT5_chr11_+_ES_65480529:65480819:65480974:6...   \n",
       "4   =\"MECOM_chr3_-_A3SS_168810746:168810872:168810...   \n",
       "..                                                ...   \n",
       "63  =\"BCL2L1_chr20_-_A5SS_30253889:30309458:303101...   \n",
       "64  =\"CD33_chr19_+_ES_51728411:51728474:51728854:5...   \n",
       "65  =\"MAP3K7_chr6_-_A3SS_91269795:91269933:9126979...   \n",
       "66          =\"MTERFD3_chr12_-_IR_107379003:107380747\"   \n",
       "67  =\"ORAI2_chr7_+_A3SS_102074108:102076672:102076...   \n",
       "\n",
       "                  cancer_name tcga_project_id   gene_name   hgnc_id  \\\n",
       "0   =\"Acute Myeloid Leukemia\"    =\"TCGA-LAML\"  =\"TMEM14C\"  =\"20952\"   \n",
       "1   =\"Acute Myeloid Leukemia\"    =\"TCGA-LAML\"    =\"INTS3\"  =\"26153\"   \n",
       "2   =\"Acute Myeloid Leukemia\"    =\"TCGA-LAML\"    =\"CSF3R\"   =\"2439\"   \n",
       "3   =\"Acute Myeloid Leukemia\"    =\"TCGA-LAML\"     =\"KAT5\"   =\"5275\"   \n",
       "4   =\"Acute Myeloid Leukemia\"    =\"TCGA-LAML\"    =\"MECOM\"   =\"3498\"   \n",
       "..                        ...             ...         ...       ...   \n",
       "63  =\"Acute Myeloid Leukemia\"    =\"TCGA-LAML\"   =\"BCL2L1\"    =\"992\"   \n",
       "64  =\"Acute Myeloid Leukemia\"    =\"TCGA-LAML\"     =\"CD33\"   =\"1659\"   \n",
       "65  =\"Acute Myeloid Leukemia\"    =\"TCGA-LAML\"   =\"MAP3K7\"   =\"6859\"   \n",
       "66  =\"Acute Myeloid Leukemia\"    =\"TCGA-LAML\"  =\"MTERFD3\"  =\"30779\"   \n",
       "67  =\"Acute Myeloid Leukemia\"    =\"TCGA-LAML\"    =\"ORAI2\"  =\"21667\"   \n",
       "\n",
       "            ensembl_id       chr  ... external_intervention  \\\n",
       "0   =\"ENSG00000111843\"   =\"chr6\"  ...                  =\"-\"   \n",
       "1   =\"ENSG00000143624\"   =\"chr1\"  ...                  =\"-\"   \n",
       "2   =\"ENSG00000119535\"   =\"chr1\"  ...                  =\"-\"   \n",
       "3   =\"ENSG00000172977\"  =\"chr11\"  ...                  =\"-\"   \n",
       "4   =\"ENSG00000085276\"   =\"chr3\"  ...                  =\"-\"   \n",
       "..                 ...       ...  ...                   ...   \n",
       "63  =\"ENSG00000171552\"  =\"chr20\"  ...                  =\"-\"   \n",
       "64  =\"ENSG00000105383\"  =\"chr19\"  ...                  =\"-\"   \n",
       "65  =\"ENSG00000135341\"   =\"chr6\"  ...                  =\"-\"   \n",
       "66  =\"ENSG00000120832\"  =\"chr12\"  ...                  =\"-\"   \n",
       "67  =\"ENSG00000160991\"   =\"chr7\"  ...                  =\"-\"   \n",
       "\n",
       "                        regulatory_mechanism               regulatory_gene  \\\n",
       "0               =\"splicing factor, mutation\"               =\"SF3B1(K700E)\"   \n",
       "1               =\"splicing factor, mutation\"   =\"SRSF2(P95H), IDH2(R140Q)\"   \n",
       "2   =\"splicing factor, mutation, expression\"                      =\"SRSF2\"   \n",
       "3                              =\"expression\"                      =\"PRMT5\"   \n",
       "4               =\"splicing factor, mutation\"  =\"SF3B1(K700E/ K666N/G740E)\"   \n",
       "..                                       ...                           ...   \n",
       "63            =\"splicing factor, expression\"                      =\"RBM25\"   \n",
       "64            =\"splicing factor, expression\"                      =\"SRSF2\"   \n",
       "65              =\"splicing factor, mutation\"               =\"SF3B1(K700E)\"   \n",
       "66              =\"splicing factor, mutation\"               =\"SF3B1(K700E)\"   \n",
       "67              =\"splicing factor, mutation\"               =\"SF3B1(K700E)\"   \n",
       "\n",
       "                      biological_function  \\\n",
       "0           =\"Cell Growth, Cell Survival\"   \n",
       "1     =\"DNA Repair, Cell Differentiation\"   \n",
       "2                   =\"Cell Proliferation\"   \n",
       "3   =\"DNA Damage, DNA Repair, Cell Cycle\"   \n",
       "4   =\"Cell Differentiation, Self-renewal\"   \n",
       "..                                    ...   \n",
       "63             =\"Tumor Growth, Apoptosis\"   \n",
       "64   =\"Cell Differentiation, Cell Growth\"   \n",
       "65          =\"Cell Growth, Cell Survival\"   \n",
       "66          =\"Cell Growth, Cell Survival\"   \n",
       "67          =\"Cell Growth, Cell Survival\"   \n",
       "\n",
       "                               functional_description     year    pubmed_id  \\\n",
       "0   =\"Delivery of synthetic intron-containing HSV–...  =\"2022\"  =\"35241838\"   \n",
       "1   =\"INTS3 depletion in these cells significantly...  =\"2019\"  =\"31578525\"   \n",
       "2   =\"CSF3R is a target of SRSF2 mutations, which ...  =\"2020\"  =\"31462738\"   \n",
       "3   =\"PRMT5 depletion or inhibition induces aberra...  =\"2018\"  =\"30184499\"   \n",
       "4   =\"A novel EVI1 splice isoform is frequently ex...  =\"2022\"  =\"35709354\"   \n",
       "..                                                ...      ...          ...   \n",
       "63  =\"Reduction in apoptosis of RBM25 KD U937 cell...  =\"2019\"  =\"30635567\"   \n",
       "64  =\"The skipping of exon2, resulting in the shor...  =\"2017\"  =\"28644774\"   \n",
       "65  =\"Delivery of synthetic intron-containing HSV–...  =\"2022\"  =\"35241838\"   \n",
       "66  =\"Delivery of synthetic intron-containing HSV–...  =\"2022\"  =\"35241838\"   \n",
       "67  =\"Delivery of synthetic intron-containing HSV–...  =\"2022\"  =\"35241838\"   \n",
       "\n",
       "              journal                                              title  \\\n",
       "0   =\"Nat Biotechnol\"  =\"Synthetic introns enable splicing factor mut...   \n",
       "1           =\"Nature\"  =\"Coordinated alterations in RNA splicing and ...   \n",
       "2         =\"Leukemia\"  =\"Altered expression of CSF3R splice variants ...   \n",
       "3         =\"Cell Rep\"  =\"PRMT5 regulates DNA repair by controlling th...   \n",
       "4            =\"Blood\"  =\"Aberrant EVI1 splicing contributes to EVI1-r...   \n",
       "..                ...                                                ...   \n",
       "63      =\"Nat Commun\"  =\"The splicing factor RBM25 controls MYC activ...   \n",
       "64    =\"J Clin Oncol\"  =\"CD33 splicing polymorphism determines gEMTuz...   \n",
       "65  =\"Nat Biotechnol\"  =\"Synthetic introns enable splicing factor mut...   \n",
       "66  =\"Nat Biotechnol\"  =\"Synthetic introns enable splicing factor mut...   \n",
       "67  =\"Nat Biotechnol\"  =\"Synthetic introns enable splicing factor mut...   \n",
       "\n",
       "                 cancer_names  \n",
       "0   =\"Acute Myeloid Leukemia\"  \n",
       "1   =\"Acute Myeloid Leukemia\"  \n",
       "2   =\"Acute Myeloid Leukemia\"  \n",
       "3   =\"Acute Myeloid Leukemia\"  \n",
       "4   =\"Acute Myeloid Leukemia\"  \n",
       "..                        ...  \n",
       "63  =\"Acute Myeloid Leukemia\"  \n",
       "64  =\"Acute Myeloid Leukemia\"  \n",
       "65  =\"Acute Myeloid Leukemia\"  \n",
       "66  =\"Acute Myeloid Leukemia\"  \n",
       "67  =\"Acute Myeloid Leukemia\"  \n",
       "\n",
       "[68 rows x 43 columns]"
      ]
     },
     "execution_count": 2,
     "metadata": {},
     "output_type": "execute_result"
    }
   ],
   "source": [
    "import pandas as pd\n",
    "pd.read_csv('datasets/Experimentally_supported_AS_events (1).csv')"
   ]
  }
 ],
 "metadata": {
  "kernelspec": {
   "display_name": "Python 3 (ipykernel)",
   "language": "python",
   "name": "python3"
  },
  "language_info": {
   "codemirror_mode": {
    "name": "ipython",
    "version": 3
   },
   "file_extension": ".py",
   "mimetype": "text/x-python",
   "name": "python",
   "nbconvert_exporter": "python",
   "pygments_lexer": "ipython3",
   "version": "3.10.15"
  }
 },
 "nbformat": 4,
 "nbformat_minor": 5
}
