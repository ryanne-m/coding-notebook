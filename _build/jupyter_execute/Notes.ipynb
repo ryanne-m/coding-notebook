{
 "cells": [
  {
   "cell_type": "markdown",
   "id": "39112b32-02a1-423a-a5fb-68d04d4d4948",
   "metadata": {},
   "source": [
    "# Notes\n",
    "\n",
    "### Converting .bam to .fastq 11/14/2024\n",
    "\n",
    "First, one of the bam files was loaded into igv using hg38 as the reference genome to determine strandedness. Due to the sense and antisense strands being intersperced, these mapped reads are part of a paired-end unstranded library. Files were then converted from bam to fastq format using samtools v.1.21:"
   ]
  },
  {
   "cell_type": "code",
   "execution_count": 1,
   "id": "00185ab2",
   "metadata": {
    "vscode": {
     "languageId": "shellscript"
    }
   },
   "outputs": [
    {
     "ename": "SyntaxError",
     "evalue": "invalid syntax (2660152066.py, line 2)",
     "output_type": "error",
     "traceback": [
      "\u001b[0;36m  Cell \u001b[0;32mIn[1], line 2\u001b[0;36m\u001b[0m\n\u001b[0;31m    samtools sort -n SJAML003320_D3.bam -o SJAML003320_D3_sorted.bam\u001b[0m\n\u001b[0m             ^\u001b[0m\n\u001b[0;31mSyntaxError\u001b[0m\u001b[0;31m:\u001b[0m invalid syntax\n"
     ]
    }
   ],
   "source": [
    "# Sort paired-end read alignment .bam file by name\n",
    "samtools sort -n SJAML003320_D3.bam -o SJAML003320_D3_sorted.bam\n",
    "\n",
    "# Convert the sorted file into two compressed fastq files, each containing one of the paired-end reads\n",
    "samtools fastq -@ 8 bamInput/SJAML003320_D3_sorted.bam \\\n",
    "    -1 fastqOutput/SJAML003320_D3_R1.fastq.gz \\\n",
    "    -2 fastqOutput/SJAML003320_D3_R2.fastq.gz \\\n",
    "    -0 /dev/null -s /dev/null -n\n"
   ]
  },
  {
   "cell_type": "markdown",
   "id": "56d0789d",
   "metadata": {},
   "source": [
    "Files will be kept on HiPerGator due to size constraints."
   ]
  },
  {
   "cell_type": "markdown",
   "id": "41961d17",
   "metadata": {},
   "source": [
    "### Using Jupyter Notebook 11/15/2024\n",
    "\n",
    "Whenever you want to update the coding notebook, use: \n",
    "    jb build . \n",
    "Then:\n",
    "    ghp-import -n -p -f _build/html\n"
   ]
  }
 ],
 "metadata": {
  "kernelspec": {
   "display_name": "Python 3 (ipykernel)",
   "language": "python",
   "name": "python3"
  },
  "language_info": {
   "codemirror_mode": {
    "name": "ipython",
    "version": 3
   },
   "file_extension": ".py",
   "mimetype": "text/x-python",
   "name": "python",
   "nbconvert_exporter": "python",
   "pygments_lexer": "ipython3",
   "version": "3.10.15"
  }
 },
 "nbformat": 4,
 "nbformat_minor": 5
}