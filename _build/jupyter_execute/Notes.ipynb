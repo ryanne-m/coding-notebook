{
 "cells": [
  {
   "cell_type": "markdown",
   "id": "39112b32-02a1-423a-a5fb-68d04d4d4948",
   "metadata": {},
   "source": [
    "# Notes\n",
    "\n",
    "### Converting .bam to .fastq 11/14/2024\n",
    "\n",
    "First, one of the bam files was loaded into igv using hg38 as the reference genome to determine strandedness. Due to the sense and antisense strands being intersperced, these mapped reads are part of a paired-end unstranded library. Files were then converted from bam to fastq format using samtools v.1.21:"
   ]
  },
  {
   "cell_type": "code",
   "execution_count": 1,
   "id": "00185ab2",
   "metadata": {
    "vscode": {
     "languageId": "shellscript"
    }
   },
   "outputs": [
    {
     "ename": "SyntaxError",
     "evalue": "invalid syntax (2660152066.py, line 2)",
     "output_type": "error",
     "traceback": [
      "\u001b[0;36m  Cell \u001b[0;32mIn[1], line 2\u001b[0;36m\u001b[0m\n\u001b[0;31m    samtools sort -n SJAML003320_D3.bam -o SJAML003320_D3_sorted.bam\u001b[0m\n\u001b[0m             ^\u001b[0m\n\u001b[0;31mSyntaxError\u001b[0m\u001b[0;31m:\u001b[0m invalid syntax\n"
     ]
    }
   ],
   "source": [
    "# Sort paired-end read alignment .bam file by name\n",
    "samtools sort -n SJAML003320_D3.bam -o SJAML003320_D3_sorted.bam\n",
    "\n",
    "# Convert the sorted file into two compressed fastq files, each containing one of the paired-end reads\n",
    "samtools fastq -@ 8 bamInput/SJAML003320_D3_sorted.bam \\\n",
    "    -1 fastqOutput/SJAML003320_D3_R1.fastq.gz \\\n",
    "    -2 fastqOutput/SJAML003320_D3_R2.fastq.gz \\\n",
    "    -0 /dev/null -s /dev/null -n\n"
   ]
  },
  {
   "cell_type": "markdown",
   "id": "56d0789d",
   "metadata": {},
   "source": [
    "According to the output, 0 singletons were discarded using the /dev/null code while 185050754 reads were processed for this first SJAML003320 file. Files will be kept on HiPerGator due to size constraints."
   ]
  },
  {
   "cell_type": "markdown",
   "id": "41961d17",
   "metadata": {},
   "source": [
    "### Using Jupyter Notebook 11/15/2024\n",
    "\n",
    "Whenever you want to update the coding notebook, use: \n",
    "    jb build . \n",
    "Then commit to Github and use:\n",
    "    ghp-import -n -p -f _build/html\n"
   ]
  },
  {
   "cell_type": "markdown",
   "id": "d2a49308",
   "metadata": {},
   "source": [
    "### Using Poetry to Create a Package 11/18/2024\n",
    "\n",
    "Whenever you want to create a package, a build backend is required which will make a source distribution and build distribution that you need. The build backend I have decided to use is Poetry, which is considered the up-and-coming platform. Poetry requires the following file layout:"
   ]
  },
  {
   "cell_type": "code",
   "execution_count": null,
   "id": "f654f899",
   "metadata": {
    "vscode": {
     "languageId": "shellscript"
    }
   },
   "outputs": [],
   "source": [
    "poetry-demo\n",
    "├── pyproject.toml\n",
    "├── README.md\n",
    "├── poetry_demo\n",
    "    └── __init__.py\n",
    "    └── demo.py"
   ]
  },
  {
   "cell_type": "markdown",
   "id": "785a2fec",
   "metadata": {},
   "source": [
    "To get more information, visit [the poetry website](https://python-poetry.org/docs/). You will need to pipx install poetry."
   ]
  },
  {
   "cell_type": "markdown",
   "id": "58e3ebd2",
   "metadata": {},
   "source": [
    "First, you will want to do a test run of your package upload using TestPyPi. Create a TestPyPi account and verify it to upload packages. Go to the account settings and create an API token. In the termminal, add the TestPyPi repository to your Poetry configuration: "
   ]
  },
  {
   "cell_type": "code",
   "execution_count": null,
   "id": "0401fbfc",
   "metadata": {
    "vscode": {
     "languageId": "shellscript"
    }
   },
   "outputs": [],
   "source": [
    "#$ poetry config repositories.testpypi https://test.pypi.org/legacy/"
   ]
  },
  {
   "cell_type": "markdown",
   "id": "d2b0ef48",
   "metadata": {},
   "source": [
    "Then, add your credentials to Poetry:"
   ]
  },
  {
   "cell_type": "code",
   "execution_count": null,
   "id": "c884f450",
   "metadata": {
    "vscode": {
     "languageId": "shellscript"
    }
   },
   "outputs": [],
   "source": [
    "#$ poetry config pypi-token.testpypi your-token-here"
   ]
  },
  {
   "cell_type": "markdown",
   "id": "195bb398",
   "metadata": {},
   "source": [
    "From now on, you do not need to repeat the steps above. Only the below steps will need to be repeated for each upload to TestPyPi. Poetry will create a dist folder containing your source and build distribution from:"
   ]
  },
  {
   "cell_type": "code",
   "execution_count": null,
   "id": "565ed382",
   "metadata": {
    "vscode": {
     "languageId": "shellscript"
    }
   },
   "outputs": [],
   "source": [
    "#$ poetry build"
   ]
  },
  {
   "cell_type": "markdown",
   "id": "b4ccf510",
   "metadata": {},
   "source": [
    "Finally, use the following command to upload the package:"
   ]
  },
  {
   "cell_type": "code",
   "execution_count": null,
   "id": "7220724e",
   "metadata": {
    "vscode": {
     "languageId": "shellscript"
    }
   },
   "outputs": [],
   "source": [
    "#$ poetry publish -r testpypi --build\n"
   ]
  },
  {
   "cell_type": "markdown",
   "id": "6798bf3f",
   "metadata": {},
   "source": [
    "Now it should upload to your projects within TestPyPi. At the top of the page, there is code you can copy that will be used to pip install the package on a system. Note that the pip install here uses a webiste link because this is TestPyPi, and not the real PyPi. Another note- every time you want to re-upload the package, you must change the version number within pyproject.toml or else it will not work."
   ]
  },
  {
   "cell_type": "markdown",
   "id": "3172bf4c",
   "metadata": {},
   "source": [
    "### Uploading Files from a Third-Party to HiPerGator 11/18/2024"
   ]
  },
  {
   "cell_type": "markdown",
   "id": "ff1b7e39",
   "metadata": {},
   "source": [
    "Log in using your UF credentials to [UF onDemand](https://ondemand.rc.ufl.edu) and create a console using the default settings. Once the interactive session starts, navigate to the folder you want to upload to within HiPerGator in the terminal. In my case, this was /blue/jatinderklamba/mulligan/data/TestBamFiles/ . Type in the following commands:"
   ]
  },
  {
   "cell_type": "code",
   "execution_count": null,
   "id": "a9dd4b6e",
   "metadata": {
    "vscode": {
     "languageId": "shellscript"
    }
   },
   "outputs": [],
   "source": [
    "#$ module load ubuntu\n",
    "#$ chrome"
   ]
  },
  {
   "cell_type": "markdown",
   "id": "356874da",
   "metadata": {},
   "source": [
    "This will open Chrome within the console. Navigate to the Chrome settings and change the default download location to the HiPerGator folder you are in. Then, navigate to the third-party site such as Dropbox. Whatever you download will be downloaded to the HiPerGator folder. Note- downloading all the files from Dropbox at once creates a zipped file that won't want to open. It is best to download these one at a time until a better solution is found. For more information about uplodaing files to HiPerGator visit [this website](https://help.rc.ufl.edu/doc/Transfer_Data)."
   ]
  }
 ],
 "metadata": {
  "kernelspec": {
   "display_name": "Python 3 (ipykernel)",
   "language": "python",
   "name": "python3"
  },
  "language_info": {
   "codemirror_mode": {
    "name": "ipython",
    "version": 3
   },
   "file_extension": ".py",
   "mimetype": "text/x-python",
   "name": "python",
   "nbconvert_exporter": "python",
   "pygments_lexer": "ipython3",
   "version": "3.10.15"
  }
 },
 "nbformat": 4,
 "nbformat_minor": 5
}