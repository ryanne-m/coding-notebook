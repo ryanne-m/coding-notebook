{
 "cells": [
  {
   "cell_type": "markdown",
   "metadata": {},
   "source": [
    "# Proteomics\n",
    "\n",
    "## Papers / Links\n",
    "Access clinical trial paper for AML 02 [here](https://pubmed.ncbi.nlm.nih.gov/20451454/).\n",
    "\n",
    "Access clinical trial paper for AML 08 [here](https://pubmed.ncbi.nlm.nih.gov/31246522/).\n",
    "\n",
    "No paper is available yet for AML16, but the clinical trial information can be found [here](https://clinicaltrials.gov/study/NCT03164057).\n",
    "\n",
    "Public protein sequencing datasets available through [ProteomeXchange](https://www.proteomexchange.org/).\n",
    "\n",
    "## Specific Aims Page\n",
    "\n",
    "### Introduction\n",
    "\n",
    "Acute Myeloid Leukemia (AML) is a heterogenous hematological malignancy characterized by uncontrolled growth and subsequent buildup of undifferentiated myeloid blast cells.\n",
    "\n",
    "### Specific Aims\n",
    "\n",
    "Aim 1: Elucidate the prognostic relevance of proteomics in AML by comparing protein profiles across survival outcomes, patient subgroups, and AML-specific genetic alterations.\n",
    "\n",
    "Aim 2: To characterize aberrant transcripts from RNA-sequencing data from the St Jude AML02, AML08, and AML16 clinical trials and confirm the translation of these transcripts through presence of protein sequencing data from the same patients.\n",
    "\n",
    "Aim 3: To select aberrant proteins for potential drug targeting.\n",
    "\n",
    "\n",
    "\n"
   ]
  }
 ],
 "metadata": {
  "language_info": {
   "codemirror_mode": {
    "name": "ipython",
    "version": 3
   },
   "file_extension": ".py",
   "mimetype": "text/x-python",
   "name": "python",
   "nbconvert_exporter": "python",
   "pygments_lexer": "ipython3",
   "version": "3.10.15"
  }
 },
 "nbformat": 4,
 "nbformat_minor": 2
}