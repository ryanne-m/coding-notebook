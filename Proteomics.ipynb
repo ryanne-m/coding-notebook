{
 "cells": [
  {
   "cell_type": "markdown",
   "metadata": {},
   "source": [
    "# Proteomics\n",
    "\n",
    "## AML02 Aims\n",
    "Access clinical trial paper [here](https://pubmed.ncbi.nlm.nih.gov/20451454/).\n",
    "- Compare protein expression across sex, risk group, and genetic abnormalities\n",
    "- Curate a list of fusion proteins, alternatively spliced proteins, and other abberant protein isoforms due to AML and check this list against protein sequencing data\n",
    "- Compare EFS, OS, and MRD status\n",
    "- Compare HDAC and LDAC groups- are the samples taken at diagnosis or after therapy?\n"
   ]
  }
 ],
 "metadata": {
  "language_info": {
   "name": "python"
  }
 },
 "nbformat": 4,
 "nbformat_minor": 2
}
